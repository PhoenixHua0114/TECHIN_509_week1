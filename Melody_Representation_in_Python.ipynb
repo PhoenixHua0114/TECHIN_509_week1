{
  "cells": [
    {
      "cell_type": "markdown",
      "id": "051c923b",
      "metadata": {
        "id": "051c923b"
      },
      "source": [
        "\n",
        "# Melody Representation in Python (Notebook)"
      ]
    },
    {
      "cell_type": "markdown",
      "id": "c6806c51",
      "metadata": {
        "id": "c6806c51"
      },
      "source": [
        "\n",
        "## 1. Minimal, ordered representation\n",
        "A melody is an **ordered sequence** of note events. We use a Python **list** of note **strings** to preserve order.\n"
      ]
    },
    {
      "cell_type": "code",
      "execution_count": null,
      "id": "88a47575",
      "metadata": {
        "id": "88a47575"
      },
      "outputs": [],
      "source": [
        "\n",
        "# A single melody: C D E F G\n",
        "melody = [\"C\", \"D\", \"E\", \"F\", \"G\"]\n",
        "melody\n"
      ]
    },
    {
      "cell_type": "markdown",
      "id": "60e190a7",
      "metadata": {
        "id": "60e190a7"
      },
      "source": [
        "\n",
        "## 2. Adding rhythm and octave (optional upgrade)\n",
        "If you need more detail (octave/duration), use tuples `(pitch, duration)` where duration is in beats.\n"
      ]
    },
    {
      "cell_type": "code",
      "execution_count": null,
      "id": "287c8606",
      "metadata": {
        "id": "287c8606"
      },
      "outputs": [],
      "source": [
        "\n",
        "# pitch as scientific pitch notation, duration in beats\n",
        "melody_rich = [(\"C4\", 1.0), (\"D4\", 1.0), (\"E4\", 1.0), (\"F4\", 1.0), (\"G4\", 2.0)]\n",
        "melody_rich\n"
      ]
    },
    {
      "cell_type": "markdown",
      "id": "e9d2c1ff",
      "metadata": {
        "id": "e9d2c1ff"
      },
      "source": [
        "\n",
        "## 3. Grouping several melodies\n",
        "Use a list of melodies for a simple corpus or a dict if you want names/metadata.\n"
      ]
    },
    {
      "cell_type": "code",
      "execution_count": null,
      "id": "010ae5ff",
      "metadata": {
        "id": "010ae5ff"
      },
      "outputs": [],
      "source": [
        "\n",
        "# Option A: Corpus as a list of melodies (each melody is a list of note strings)\n",
        "corpus = [\n",
        "    [\"C\", \"D\", \"E\", \"F\", \"G\"],       # melody 1\n",
        "    [\"G\", \"F\", \"E\", \"D\", \"C\"],       # melody 2\n",
        "    [\"C\", \"E\", \"G\", \"E\", \"C\"]        # melody 3\n",
        "]\n",
        "\n",
        "# Option B: Named melodies (dictionary)\n",
        "songs = {\n",
        "    \"ascending\": [\"C\", \"D\", \"E\", \"F\", \"G\"],\n",
        "    \"descending\": [\"G\", \"F\", \"E\", \"D\", \"C\"],\n",
        "    \"arpeggio\": [\"C\", \"E\", \"G\", \"E\", \"C\"]\n",
        "}\n",
        "\n",
        "corpus, songs\n"
      ]
    },
    {
      "cell_type": "markdown",
      "id": "c1df1107",
      "metadata": {
        "id": "c1df1107"
      },
      "source": [
        "\n",
        "## 4. Flattening a collection of melodies\n",
        "Sometimes you need a single, long sequence of notes (e.g., for statistics or training). Three common approaches:\n",
        "- `itertools.chain.from_iterable`\n",
        "- Repeated `list.extend(...)`\n",
        "- `sum(corpus, [])` (simple, but less efficient for large data)\n"
      ]
    },
    {
      "cell_type": "code",
      "execution_count": null,
      "id": "e1f135f0",
      "metadata": {
        "id": "e1f135f0"
      },
      "outputs": [],
      "source": [
        "\n",
        "from itertools import chain\n",
        "\n",
        "# Using itertools (efficient)\n",
        "all_notes_chain = list(chain.from_iterable(corpus))\n",
        "\n",
        "# Using extend in a loop\n",
        "all_notes_extend = []\n",
        "for m in corpus:\n",
        "    all_notes_extend.extend(m)\n",
        "\n",
        "# Using sum (okay for small datasets)\n",
        "all_notes_sum = sum(corpus, [])\n",
        "\n",
        "print(\"itertools.chain:\", all_notes_chain)\n",
        "print(\"extend loop    :\", all_notes_extend)\n",
        "print(\"sum(corpus, []):\", all_notes_sum)\n"
      ]
    },
    {
      "cell_type": "markdown",
      "id": "4b55627f",
      "metadata": {
        "id": "4b55627f"
      },
      "source": [
        "\n",
        "## 5. Simple feature extraction\n",
        "To analyze or train models, you might compute:\n",
        "- **Pitch n-grams** (common note patterns)\n",
        "- **Intervals** (melodic motion; transposition-invariant)\n",
        "- (Optionally) rhythm patterns, key/scale degrees, phrase boundaries\n",
        "\n",
        "Below is a toy example mapping pitch classes to integers and extracting intervals and n-grams.\n"
      ]
    },
    {
      "cell_type": "code",
      "execution_count": null,
      "id": "da6396ce",
      "metadata": {
        "id": "da6396ce"
      },
      "outputs": [],
      "source": [
        "\n",
        "# Simple pitch-to-number map for interval features (pitch classes only; no octaves)\n",
        "scale_order = [\"C\",\"C#\",\"D\",\"D#\",\"E\",\"F\",\"F#\",\"G\",\"G#\",\"A\",\"A#\",\"B\"]\n",
        "to_num = {p:i for i,p in enumerate(scale_order)}\n",
        "\n",
        "def intervals(melody):\n",
        "    # Filter: ensure all notes are recognized pitch classes for this toy demo\n",
        "    nums = [to_num[p] for p in melody if p in to_num]\n",
        "    return [nums[i+1] - nums[i] for i in range(len(nums)-1)]\n",
        "\n",
        "def ngrams(seq, n=3):\n",
        "    return [tuple(seq[i:i+n]) for i in range(len(seq)-n+1)]\n",
        "\n",
        "# Build a flat corpus and compute some features\n",
        "from itertools import chain\n",
        "all_notes = list(chain.from_iterable(corpus))\n",
        "tri_grams = ngrams(all_notes, n=3)\n",
        "melody_intervals = [intervals(m) for m in corpus]\n",
        "\n",
        "print(\"All notes (flat):\", all_notes)\n",
        "print(\"Example 3-grams:\", tri_grams[:8])\n",
        "print(\"Intervals per melody:\", melody_intervals)\n"
      ]
    },
    {
      "cell_type": "markdown",
      "id": "a759f22c",
      "metadata": {
        "id": "a759f22c"
      },
      "source": [
        "\n",
        "## 6. Building a dataset incrementally\n",
        "Starting with an empty list and adding melody notes is straightforward via `extend` (or `+=`). This keeps the result flat.\n"
      ]
    },
    {
      "cell_type": "code",
      "execution_count": null,
      "id": "abe414bb",
      "metadata": {
        "id": "abe414bb"
      },
      "outputs": [],
      "source": [
        "\n",
        "all_notes_incremental = []\n",
        "for melody_i in corpus:\n",
        "    all_notes_incremental.extend(melody_i)   # or: all_notes_incremental += melody_i\n",
        "all_notes_incremental\n"
      ]
    },
    {
      "cell_type": "markdown",
      "id": "447c78a1",
      "metadata": {
        "id": "447c78a1"
      },
      "source": [
        "\n",
        "## 7. Preferred training data shape & justification\n",
        "- **Representation:** `List[List[Note]]` where `Note` is a string (`\"C\"`) or a tuple (`(\"C4\", 1.0)`) if rhythm/octave matter.\n",
        "- **Why lists?** Lists preserve order, which is paramount for melody. They are easy to slice, batch, and combine.\n",
        "- **Flattening:** Use `itertools.chain` (or `extend`) when a single sequence is needed for n-gram statistics or sequence modeling.\n",
        "- **Features to extract:** pitch n-grams, intervals, rhythm patterns, phrase lengths; optionally key/scale degrees.\n",
        "- **Extensibility:** Start simple (strings), then upgrade notes to dicts/tuples if you need more attributes without changing the outer list shape.\n"
      ]
    }
  ],
  "metadata": {
    "kernelspec": {
      "display_name": "Python 3",
      "language": "python",
      "name": "python3"
    },
    "language_info": {
      "name": "python",
      "version": "3.x"
    },
    "colab": {
      "provenance": []
    }
  },
  "nbformat": 4,
  "nbformat_minor": 5
}